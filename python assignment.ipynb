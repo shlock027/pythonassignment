{
 "cells": [
  {
   "cell_type": "code",
   "execution_count": 3,
   "id": "2ba72ee3-fc66-46d8-8762-bab4bd1b4bdc",
   "metadata": {},
   "outputs": [],
   "source": [
    "Q1.create one variable containing following type of data"
   ]
  },
  {
   "cell_type": "code",
   "execution_count": 3,
   "id": "1ee1d221-7bb2-4596-973a-dbe81c640f87",
   "metadata": {},
   "outputs": [],
   "source": [
    "a=\"my name is shlock\""
   ]
  },
  {
   "cell_type": "code",
   "execution_count": 2,
   "id": "b88bcbe8-12e0-491c-86a5-ce259df42a9f",
   "metadata": {},
   "outputs": [
    {
     "data": {
      "text/plain": [
       "str"
      ]
     },
     "execution_count": 2,
     "metadata": {},
     "output_type": "execute_result"
    }
   ],
   "source": [
    "type(a)"
   ]
  },
  {
   "cell_type": "code",
   "execution_count": 4,
   "id": "531f72e1-cdc4-4b7f-a073-4873fa8f01a6",
   "metadata": {},
   "outputs": [],
   "source": [
    "b=[2,3,4,5,6,\"shlock\",\"pwskills\",23.45,True]"
   ]
  },
  {
   "cell_type": "code",
   "execution_count": 5,
   "id": "fa794b0b-c268-4f0f-b29b-c94fb9e5c0fc",
   "metadata": {},
   "outputs": [
    {
     "data": {
      "text/plain": [
       "list"
      ]
     },
     "execution_count": 5,
     "metadata": {},
     "output_type": "execute_result"
    }
   ],
   "source": [
    "type(b)"
   ]
  },
  {
   "cell_type": "code",
   "execution_count": 6,
   "id": "5c79af98-6263-42d1-b8b6-df742eae73c2",
   "metadata": {},
   "outputs": [],
   "source": [
    "c=22.46"
   ]
  },
  {
   "cell_type": "code",
   "execution_count": 7,
   "id": "9b0ae966-cbaa-476d-b8bb-875b99abec51",
   "metadata": {},
   "outputs": [
    {
     "data": {
      "text/plain": [
       "float"
      ]
     },
     "execution_count": 7,
     "metadata": {},
     "output_type": "execute_result"
    }
   ],
   "source": [
    "type(c)"
   ]
  },
  {
   "cell_type": "code",
   "execution_count": 12,
   "id": "5810be87-7dc3-4d3e-80a7-e49bdee1cc29",
   "metadata": {},
   "outputs": [],
   "source": [
    "d=(2,3,4,5,6,\"shlock\",\"pwskills\",23.45,True)"
   ]
  },
  {
   "cell_type": "code",
   "execution_count": 13,
   "id": "93a8fc77-8741-48ee-9d16-c64fa5b9bc4e",
   "metadata": {},
   "outputs": [
    {
     "data": {
      "text/plain": [
       "tuple"
      ]
     },
     "execution_count": 13,
     "metadata": {},
     "output_type": "execute_result"
    }
   ],
   "source": [
    "type(d)"
   ]
  },
  {
   "cell_type": "code",
   "execution_count": null,
   "id": "5ed4896f-8f7d-4902-8078-af4292e330d0",
   "metadata": {},
   "outputs": [],
   "source": [
    "Q2.Given are same following variables containing data"
   ]
  },
  {
   "cell_type": "code",
   "execution_count": 15,
   "id": "b74d84c5-1113-4bc7-9937-08fd6f6839f6",
   "metadata": {},
   "outputs": [],
   "source": [
    "a=''"
   ]
  },
  {
   "cell_type": "code",
   "execution_count": 16,
   "id": "2ab966c9-0076-4b80-b427-0eef006ddf41",
   "metadata": {},
   "outputs": [
    {
     "data": {
      "text/plain": [
       "str"
      ]
     },
     "execution_count": 16,
     "metadata": {},
     "output_type": "execute_result"
    }
   ],
   "source": [
    "type(a)"
   ]
  },
  {
   "cell_type": "code",
   "execution_count": 17,
   "id": "a41cf582-192c-41e4-9f61-be0a51a00f09",
   "metadata": {},
   "outputs": [],
   "source": [
    "b='[DS,ML,Python]'"
   ]
  },
  {
   "cell_type": "code",
   "execution_count": 18,
   "id": "e30487fc-3204-4b35-8d65-267764199a46",
   "metadata": {},
   "outputs": [
    {
     "data": {
      "text/plain": [
       "str"
      ]
     },
     "execution_count": 18,
     "metadata": {},
     "output_type": "execute_result"
    }
   ],
   "source": [
    "type(b)"
   ]
  },
  {
   "cell_type": "code",
   "execution_count": 19,
   "id": "d45a37a8-92d8-4180-bbab-ecc1fbb0db15",
   "metadata": {},
   "outputs": [],
   "source": [
    "c=['DS','ML','Python']"
   ]
  },
  {
   "cell_type": "code",
   "execution_count": 20,
   "id": "38e2c594-197c-4931-9b50-8a3bd0b8c91c",
   "metadata": {},
   "outputs": [
    {
     "data": {
      "text/plain": [
       "list"
      ]
     },
     "execution_count": 20,
     "metadata": {},
     "output_type": "execute_result"
    }
   ],
   "source": [
    "type(c)"
   ]
  },
  {
   "cell_type": "code",
   "execution_count": 21,
   "id": "9ce55a10-43f7-44c7-a699-11a724788e38",
   "metadata": {},
   "outputs": [],
   "source": [
    "d=1"
   ]
  },
  {
   "cell_type": "code",
   "execution_count": 23,
   "id": "1848c794-3964-49d8-9694-1a9df1900bc6",
   "metadata": {},
   "outputs": [
    {
     "data": {
      "text/plain": [
       "int"
      ]
     },
     "execution_count": 23,
     "metadata": {},
     "output_type": "execute_result"
    }
   ],
   "source": [
    "type(d)"
   ]
  },
  {
   "cell_type": "code",
   "execution_count": null,
   "id": "064a8c4f-fca3-4da2-9f88-118042cd75ec",
   "metadata": {},
   "outputs": [],
   "source": [
    "Q3.Explain the use of the following operator using an example:"
   ]
  },
  {
   "cell_type": "code",
   "execution_count": null,
   "id": "58a6b09c-858f-49e4-922c-048ed2babb68",
   "metadata": {},
   "outputs": [],
   "source": [
    "(1) / : The '/' operator in Python is used for division operations, where it returns the quotient of two operands as a floating-point number."
   ]
  },
  {
   "cell_type": "code",
   "execution_count": 24,
   "id": "00beb653-49f5-4c99-bd36-535c91446350",
   "metadata": {},
   "outputs": [
    {
     "data": {
      "text/plain": [
       "0.5"
      ]
     },
     "execution_count": 24,
     "metadata": {},
     "output_type": "execute_result"
    }
   ],
   "source": [
    "1/2"
   ]
  },
  {
   "cell_type": "code",
   "execution_count": null,
   "id": "6c11a61b-afa7-4fc5-8c65-c21170a34b13",
   "metadata": {},
   "outputs": [],
   "source": [
    "(2) % : The % operator in Python is called the modulo operator. It returns the remainder of the division of two numbers."
   ]
  },
  {
   "cell_type": "code",
   "execution_count": 25,
   "id": "d152594c-2681-4b49-b4d9-70d009f6aebc",
   "metadata": {},
   "outputs": [
    {
     "data": {
      "text/plain": [
       "1"
      ]
     },
     "execution_count": 25,
     "metadata": {},
     "output_type": "execute_result"
    }
   ],
   "source": [
    "5%4"
   ]
  },
  {
   "cell_type": "code",
   "execution_count": null,
   "id": "3fc39d78-69e6-4e54-9e8b-39cec2e59397",
   "metadata": {},
   "outputs": [],
   "source": [
    "(3) // : The // operator in Python is known as the floor division operator. It performs division between two numbers and returns the quotient rounded down to the nearest integer."
   ]
  },
  {
   "cell_type": "code",
   "execution_count": 26,
   "id": "e8d36c30-da7f-420b-94fa-7226774b0252",
   "metadata": {},
   "outputs": [
    {
     "data": {
      "text/plain": [
       "1"
      ]
     },
     "execution_count": 26,
     "metadata": {},
     "output_type": "execute_result"
    }
   ],
   "source": [
    "5//4"
   ]
  },
  {
   "cell_type": "code",
   "execution_count": null,
   "id": "773019e2-aa3f-444f-9f66-22903e6a0498",
   "metadata": {},
   "outputs": [],
   "source": [
    "(4) ** : the ** operator is used to raise a number to a power. It is also known as the exponentiation operator."
   ]
  },
  {
   "cell_type": "code",
   "execution_count": 27,
   "id": "ca7b09d6-8e0a-485e-b740-f23c06ae71af",
   "metadata": {},
   "outputs": [
    {
     "data": {
      "text/plain": [
       "64"
      ]
     },
     "execution_count": 27,
     "metadata": {},
     "output_type": "execute_result"
    }
   ],
   "source": [
    "4**3"
   ]
  },
  {
   "cell_type": "code",
   "execution_count": null,
   "id": "a4cd397f-d0a7-4fa4-a8d2-6313aa7a3f23",
   "metadata": {},
   "outputs": [],
   "source": [
    "Q4. Create a list of length 10 of your choice containing multiple types of data. Using for loop print the\n",
    "element and its data type."
   ]
  },
  {
   "cell_type": "code",
   "execution_count": 1,
   "id": "3a93bd4d-bc72-4f11-ab6c-f0d7d8b77cfc",
   "metadata": {},
   "outputs": [],
   "source": [
    "l = [1,2,3,4,5,\"shlock\",\"pwskills\",24.68,True]"
   ]
  },
  {
   "cell_type": "code",
   "execution_count": 3,
   "id": "f9a07cc8-2035-450d-9c05-81c194d4189f",
   "metadata": {},
   "outputs": [
    {
     "name": "stdout",
     "output_type": "stream",
     "text": [
      "<class 'int'>\n",
      "1\n",
      "<class 'int'>\n",
      "2\n",
      "<class 'int'>\n",
      "3\n",
      "<class 'int'>\n",
      "4\n",
      "<class 'int'>\n",
      "5\n",
      "<class 'str'>\n",
      "shlock\n",
      "<class 'str'>\n",
      "pwskills\n",
      "<class 'float'>\n",
      "24.68\n",
      "<class 'bool'>\n",
      "True\n"
     ]
    }
   ],
   "source": [
    "for i in l:\n",
    "    print(type(i))\n",
    "    print(i)"
   ]
  },
  {
   "cell_type": "code",
   "execution_count": null,
   "id": "014b7cf3-8fd8-485d-a72b-fcea89bc6bb2",
   "metadata": {},
   "outputs": [],
   "source": [
    "Q5. Using a while loop, verify if the number A is purely divisible by number B and if so then how many\n",
    "times it can be divisible"
   ]
  },
  {
   "cell_type": "code",
   "execution_count": 13,
   "id": "0b9978b3-13e8-47d1-b887-2ef9848952bd",
   "metadata": {},
   "outputs": [
    {
     "name": "stdout",
     "output_type": "stream",
     "text": [
      "6 is divisible by 5 2 times.\n"
     ]
    }
   ],
   "source": [
    "a = 150\n",
    "b = 5\n",
    "count = 0\n",
    "while a % b == 0:\n",
    "    count +=1\n",
    "    a = a//b\n",
    "if count > 0:\n",
    "    print(f\"{a} is divisible by {b} {count} times.\")\n",
    "else:\n",
    "    print(f\"{a} is not divisible by {b}.\")"
   ]
  },
  {
   "cell_type": "code",
   "execution_count": null,
   "id": "7fba68fe-0ed5-4abf-983e-5279289b5488",
   "metadata": {},
   "outputs": [],
   "source": [
    "Q6. Create a list containing 25 int type data. Using for loop and if-else condition print if the element is\n",
    "divisible by 3 or not."
   ]
  },
  {
   "cell_type": "code",
   "execution_count": 14,
   "id": "d0bba102-6f5a-4e87-bb66-1ed7ad4f9c70",
   "metadata": {},
   "outputs": [
    {
     "name": "stdout",
     "output_type": "stream",
     "text": [
      "2 is not divisible by 3\n",
      "3 is divisible by 3\n",
      "7 is not divisible by 3\n",
      "9 is divisible by 3\n",
      "12 is divisible by 3\n",
      "18 is divisible by 3\n",
      "21 is divisible by 3\n",
      "25 is not divisible by 3\n",
      "27 is divisible by 3\n",
      "30 is divisible by 3\n",
      "33 is divisible by 3\n",
      "36 is divisible by 3\n",
      "40 is not divisible by 3\n",
      "42 is divisible by 3\n",
      "45 is divisible by 3\n",
      "48 is divisible by 3\n",
      "50 is not divisible by 3\n",
      "51 is divisible by 3\n",
      "54 is divisible by 3\n",
      "57 is divisible by 3\n",
      "60 is divisible by 3\n",
      "63 is divisible by 3\n",
      "66 is divisible by 3\n",
      "69 is divisible by 3\n",
      "72 is divisible by 3\n"
     ]
    }
   ],
   "source": [
    "l= [2, 3, 7, 9, 12, 18, 21, 25, 27, 30, 33, 36, 40, 42, 45, 48, 50, 51, 54, 57, 60, 63, 66, 69, 72]\n",
    "\n",
    "for i in l:\n",
    "    if i % 3 == 0:\n",
    "        print(f\"{i} is divisible by 3\")\n",
    "    else:\n",
    "        print(f\"{i} is not divisible by 3\")"
   ]
  },
  {
   "cell_type": "code",
   "execution_count": null,
   "id": "b4db730a-0584-442d-b1f8-c31fba21ad96",
   "metadata": {},
   "outputs": [],
   "source": [
    "Q7.What do you understand about mutable and immutable data types? Give examples for both showing\n",
    "this property.\n",
    "\n",
    "Mutable:mutable  objects are objects whose values can be changed after they are created.\n",
    "Mutable objects can be modified in place without creating a new object.mutable objects in Python supports lists and sets. \n",
    "\n",
    "Immutable: immutable objects are objects that cannot be modified after they are created.\n",
    "Any attempt to change the value of an immutable object will result in the creation of a new object with the new value."
   ]
  },
  {
   "cell_type": "code",
   "execution_count": 4,
   "id": "96b5656f-82a3-465f-915e-b75f907f6225",
   "metadata": {},
   "outputs": [],
   "source": [
    "l= [2,3,4,5,6,\"sudh\" , 3+7j , True , 34.56]"
   ]
  },
  {
   "cell_type": "code",
   "execution_count": 5,
   "id": "fece20f7-912e-45ee-a100-dd6e10fc8727",
   "metadata": {},
   "outputs": [
    {
     "data": {
      "text/plain": [
       "list"
      ]
     },
     "execution_count": 5,
     "metadata": {},
     "output_type": "execute_result"
    }
   ],
   "source": [
    "type(l)"
   ]
  },
  {
   "cell_type": "code",
   "execution_count": 6,
   "id": "8847b0a5-cd05-4dcc-a2eb-2dea4cdf59c8",
   "metadata": {},
   "outputs": [
    {
     "data": {
      "text/plain": [
       "[2, 3, 4, 5, 6, 'sudh', (3+7j), True, 34.56]"
      ]
     },
     "execution_count": 6,
     "metadata": {},
     "output_type": "execute_result"
    }
   ],
   "source": [
    "l"
   ]
  },
  {
   "cell_type": "code",
   "execution_count": 9,
   "id": "e76990bd-20a3-47bd-9767-5c84e5d37256",
   "metadata": {},
   "outputs": [],
   "source": [
    "l[1]=300"
   ]
  },
  {
   "cell_type": "code",
   "execution_count": 10,
   "id": "1d3153a1-f90c-40e0-804e-2c3ec6a98137",
   "metadata": {},
   "outputs": [
    {
     "data": {
      "text/plain": [
       "[2, 300, 4, 5, 6, 'sudh', (3+7j), True, 34.56]"
      ]
     },
     "execution_count": 10,
     "metadata": {},
     "output_type": "execute_result"
    }
   ],
   "source": [
    "l"
   ]
  },
  {
   "cell_type": "code",
   "execution_count": 11,
   "id": "02814517-6541-43a0-90bc-7c6258cbd8b3",
   "metadata": {},
   "outputs": [],
   "source": [
    "s=\"shlock\""
   ]
  },
  {
   "cell_type": "code",
   "execution_count": 12,
   "id": "526f8079-6949-412a-86cd-a4a4dbe70c0a",
   "metadata": {},
   "outputs": [
    {
     "data": {
      "text/plain": [
       "str"
      ]
     },
     "execution_count": 12,
     "metadata": {},
     "output_type": "execute_result"
    }
   ],
   "source": [
    "type(s)"
   ]
  },
  {
   "cell_type": "code",
   "execution_count": 13,
   "id": "25720766-a6f5-41f4-89de-90750971c7b2",
   "metadata": {},
   "outputs": [
    {
     "data": {
      "text/plain": [
       "'shlock'"
      ]
     },
     "execution_count": 13,
     "metadata": {},
     "output_type": "execute_result"
    }
   ],
   "source": [
    "s"
   ]
  },
  {
   "cell_type": "code",
   "execution_count": 14,
   "id": "169f66ec-3aee-406f-9b1f-8fd7c684b2d2",
   "metadata": {},
   "outputs": [
    {
     "data": {
      "text/plain": [
       "'s'"
      ]
     },
     "execution_count": 14,
     "metadata": {},
     "output_type": "execute_result"
    }
   ],
   "source": [
    "s[0]"
   ]
  },
  {
   "cell_type": "code",
   "execution_count": 17,
   "id": "256eca89-185d-4845-b4c8-ae5120a57639",
   "metadata": {},
   "outputs": [
    {
     "ename": "TypeError",
     "evalue": "'str' object does not support item assignment",
     "output_type": "error",
     "traceback": [
      "\u001b[0;31m---------------------------------------------------------------------------\u001b[0m",
      "\u001b[0;31mTypeError\u001b[0m                                 Traceback (most recent call last)",
      "Cell \u001b[0;32mIn[17], line 1\u001b[0m\n\u001b[0;32m----> 1\u001b[0m \u001b[43ms\u001b[49m\u001b[43m[\u001b[49m\u001b[38;5;241;43m4\u001b[39;49m\u001b[43m]\u001b[49m\u001b[38;5;241m=\u001b[39m\u001b[38;5;124m'\u001b[39m\u001b[38;5;124m0\u001b[39m\u001b[38;5;124m'\u001b[39m\n",
      "\u001b[0;31mTypeError\u001b[0m: 'str' object does not support item assignment"
     ]
    }
   ],
   "source": [
    "s[4]='0'"
   ]
  },
  {
   "cell_type": "code",
   "execution_count": null,
   "id": "e3442129-ea8a-4c9f-8ac2-a860777b35d1",
   "metadata": {},
   "outputs": [],
   "source": []
  }
 ],
 "metadata": {
  "kernelspec": {
   "display_name": "Python 3 (ipykernel)",
   "language": "python",
   "name": "python3"
  },
  "language_info": {
   "codemirror_mode": {
    "name": "ipython",
    "version": 3
   },
   "file_extension": ".py",
   "mimetype": "text/x-python",
   "name": "python",
   "nbconvert_exporter": "python",
   "pygments_lexer": "ipython3",
   "version": "3.10.8"
  }
 },
 "nbformat": 4,
 "nbformat_minor": 5
}
